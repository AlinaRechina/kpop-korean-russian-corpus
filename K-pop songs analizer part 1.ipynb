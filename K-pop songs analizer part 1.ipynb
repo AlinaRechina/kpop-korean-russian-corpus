{
 "cells": [
  {
   "cell_type": "markdown",
   "id": "ae71508d",
   "metadata": {},
   "source": [
    "## Обкачивание страницы с помощью selenium"
   ]
  },
  {
   "cell_type": "markdown",
   "id": "d0c1cfc9",
   "metadata": {},
   "source": [
    "#### Подключаемся к странице и открываем оригинальный текст:"
   ]
  },
  {
   "cell_type": "code",
   "execution_count": 16,
   "id": "eddca1b9",
   "metadata": {},
   "outputs": [],
   "source": [
    "from selenium import webdriver\n",
    "from webdriver_manager.chrome import ChromeDriverManager\n"
   ]
  },
  {
   "cell_type": "code",
   "execution_count": 17,
   "id": "88056471",
   "metadata": {},
   "outputs": [],
   "source": [
    "import re"
   ]
  },
  {
   "cell_type": "code",
   "execution_count": 356,
   "id": "0b838e72",
   "metadata": {},
   "outputs": [
    {
     "name": "stderr",
     "output_type": "stream",
     "text": [
      "C:\\Users\\Алина\\AppData\\Local\\Temp/ipykernel_14468/1276585012.py:2: DeprecationWarning: executable_path has been deprecated, please pass in a Service object\n",
      "  driver = webdriver.Chrome('C:/Users/Алина/Desktop/прога/курсач/chromedriver.exe')\n"
     ]
    }
   ],
   "source": [
    "#driver = webdriver.Chrome('C:/Users/Алина/Desktop/прога/курсач/.wdm/drivers/chromedriver/win32/97.0.4692.71/chromedriver.exe')\n",
    "driver = webdriver.Chrome('C:/Users/Алина/Desktop/прога/курсач/chromedriver.exe')"
   ]
  },
  {
   "cell_type": "code",
   "execution_count": 535,
   "id": "c0e5dd12",
   "metadata": {},
   "outputs": [],
   "source": [
    "driver.quit()"
   ]
  },
  {
   "cell_type": "code",
   "execution_count": 527,
   "id": "d87b3a94",
   "metadata": {},
   "outputs": [],
   "source": [
    "# не забыть сюда добавить тайм-ауты при скачивании большого количества песен\n",
    "#driver.get(\"https://lyricstranslate.com/ru/next-level-sleduyushchiy-uroven.html#songtranslation\")\n",
    "driver.get(\"https://lyricstranslate.com/ru/catallena-%EA%B9%8C%ED%83%88%EB%A0%88%EB%82%98-%D0%BA%D0%B0%D1%82%D0%B0%D0%BB%D0%BB%D0%B5%D0%BD%D0%B0.html\")"
   ]
  },
  {
   "cell_type": "code",
   "execution_count": 528,
   "id": "076a71eb",
   "metadata": {},
   "outputs": [
    {
     "name": "stderr",
     "output_type": "stream",
     "text": [
      "C:\\Users\\Алина\\AppData\\Local\\Temp/ipykernel_14468/2693645806.py:1: DeprecationWarning: find_element_by_* commands are deprecated. Please use find_element() instead\n",
      "  org_lyr_button = driver.find_element_by_id('lyrics-preview')\n"
     ]
    }
   ],
   "source": [
    "org_lyr_button = driver.find_element_by_id('lyrics-preview')"
   ]
  },
  {
   "cell_type": "code",
   "execution_count": 529,
   "id": "732fc90d",
   "metadata": {},
   "outputs": [],
   "source": [
    "org_lyr_button.click()"
   ]
  },
  {
   "cell_type": "markdown",
   "id": "ae7542ae",
   "metadata": {},
   "source": [
    "#### Скачиваем текст:"
   ]
  },
  {
   "cell_type": "code",
   "execution_count": 494,
   "id": "dc6e1043",
   "metadata": {},
   "outputs": [],
   "source": [
    "from collections import defaultdict\n",
    "from pprint import pprint"
   ]
  },
  {
   "cell_type": "code",
   "execution_count": 495,
   "id": "13838524",
   "metadata": {},
   "outputs": [],
   "source": [
    "def downloading_lyrics(drvr):\n",
    "    error = False\n",
    "    i = 0 # параграф\n",
    "    j = 1 # строка\n",
    "    endcount = 0\n",
    "    lyrics = defaultdict(list)\n",
    "\n",
    "    while True:\n",
    "        cur = 'll-' + str(i) + '-' + str(j)\n",
    "        line = drvr.find_elements_by_class_name(cur)\n",
    "        if len(line) == 0:\n",
    "            if endcount == 0: # закончился абзац \n",
    "                i += 1\n",
    "                j = 1\n",
    "                endcount = 1\n",
    "            elif endcount == 1: # закончилась песня\n",
    "                endcount = 2\n",
    "            elif endcount == 2:\n",
    "                break\n",
    "        elif len(line) == 1:\n",
    "            error = True\n",
    "            j += 1\n",
    "            endcount = 0\n",
    "        else:\n",
    "            lyrics[cur.strip('ll-')] = [line[0].text, line[1].text]\n",
    "            j += 1\n",
    "            endcount = 0\n",
    "            \n",
    "    return lyrics, error"
   ]
  },
  {
   "cell_type": "code",
   "execution_count": 530,
   "id": "aa513531",
   "metadata": {},
   "outputs": [
    {
     "name": "stderr",
     "output_type": "stream",
     "text": [
      "C:\\Users\\Алина\\AppData\\Local\\Temp/ipykernel_14468/3132871542.py:10: DeprecationWarning: find_elements_by_* commands are deprecated. Please use find_elements() instead\n",
      "  line = drvr.find_elements_by_class_name(cur)\n"
     ]
    }
   ],
   "source": [
    "lyrics = downloading_lyrics(driver)"
   ]
  },
  {
   "cell_type": "markdown",
   "id": "37b97c9c",
   "metadata": {},
   "source": [
    "#### Скачиваем мета-инфу:\n",
    "\n",
    "(при добавлении в файл надо будет проверять, что не вернулось None и заменять на not found если не нашлось)"
   ]
  },
  {
   "cell_type": "code",
   "execution_count": 531,
   "id": "1c693f6d",
   "metadata": {},
   "outputs": [
    {
     "name": "stderr",
     "output_type": "stream",
     "text": [
      "C:\\Users\\Алина\\AppData\\Local\\Temp/ipykernel_14468/3497952685.py:3: DeprecationWarning: find_element_by_* commands are deprecated. Please use find_element() instead\n",
      "  translation_node = driver.find_element_by_class_name('translate-node-text').text\n",
      "C:\\Users\\Алина\\AppData\\Local\\Temp/ipykernel_14468/3497952685.py:4: DeprecationWarning: find_element_by_* commands are deprecated. Please use find_element() instead\n",
      "  song_node = driver.find_element_by_class_name('song-node-text').text\n",
      "C:\\Users\\Алина\\AppData\\Local\\Temp/ipykernel_14468/3497952685.py:21: DeprecationWarning: find_element_by_* commands are deprecated. Please use find_element() instead\n",
      "  meta['artist'] = driver.find_element_by_class_name(\n",
      "C:\\Users\\Алина\\AppData\\Local\\Temp/ipykernel_14468/3497952685.py:25: DeprecationWarning: find_element_by_* commands are deprecated. Please use find_element() instead\n",
      "  meta['song'] = driver.find_element_by_class_name(\n",
      "C:\\Users\\Алина\\AppData\\Local\\Temp/ipykernel_14468/3497952685.py:29: DeprecationWarning: find_element_by_* commands are deprecated. Please use find_element() instead\n",
      "  meta['album'] = driver.find_element_by_class_name(\n"
     ]
    }
   ],
   "source": [
    "meta = {}\n",
    "\n",
    "translation_node = driver.find_element_by_class_name('translate-node-text').text\n",
    "song_node = driver.find_element_by_class_name('song-node-text').text\n",
    "\n",
    "pattern_org = 'Добавлено .*? в ..\\, [0-9][0-9]\\/[0-9][0-9]\\/[0-9][0-9][0-9][0-9] \\- [0-9][0-9]:[0-9][0-9]'\n",
    "pattern_tr = 'Добавлено .*? в ..\\, [0-9][0-9]\\/[0-9][0-9]\\/[0-9][0-9][0-9][0-9] \\- [0-9][0-9]:[0-9][0-9]'\n",
    "\n",
    "org_meta = re.search(pattern_org, song_node)\n",
    "tr_meta = re.search(pattern_tr, translation_node)\n",
    "\n",
    "org_date = re.search('[0-9][0-9]\\/[0-9][0-9]\\/[0-9][0-9][0-9][0-9]', org_meta[0])[0]\n",
    "tr_date = re.search('[0-9][0-9]\\/[0-9][0-9]\\/[0-9][0-9][0-9][0-9]', tr_meta[0])[0]\n",
    "translator = re.search('Добавлено .*? в', tr_meta[0])[0][10:-2]\n",
    "\n",
    "meta['original_song_date'] = org_date\n",
    "meta['translation_date'] = tr_date\n",
    "meta['translator'] = translator\n",
    "\n",
    "# вот это бы надо доделать, там ещё куча ерунды бывает, надо брать либо до • либо до \\n\n",
    "meta['artist'] = driver.find_element_by_class_name(\n",
    "    'song-node-info-artist').text.split(\n",
    "    '•')[0].strip('Исполнитель: ')\n",
    "\n",
    "meta['song'] = driver.find_element_by_class_name(\n",
    "    'song-node-info-album').text.split(\n",
    "    '•')[0].strip('Песня: ')\n",
    "\n",
    "meta['album'] = driver.find_element_by_class_name(\n",
    "    'song-node-info-album').text.split(\n",
    "    '•')[1].strip('Альбом: ')"
   ]
  },
  {
   "cell_type": "code",
   "execution_count": 532,
   "id": "a161e307",
   "metadata": {},
   "outputs": [
    {
     "name": "stdout",
     "output_type": "stream",
     "text": [
      "{'album': 'THE THIRD SINGLE CATALLENA',\n",
      " 'artist': 'Orange Caramel (오렌지캬라멜)',\n",
      " 'original_song_date': '17/03/2017',\n",
      " 'song': '까탈레나 (Catallena)',\n",
      " 'translation_date': '28/11/2018',\n",
      " 'translator': '8U'}\n"
     ]
    }
   ],
   "source": [
    "pprint(meta)"
   ]
  },
  {
   "cell_type": "code",
   "execution_count": 533,
   "id": "b5a69e56",
   "metadata": {},
   "outputs": [
    {
     "name": "stdout",
     "output_type": "stream",
     "text": [
      "defaultdict(<class 'list'>,\n",
      "            {'0-1': ['Маленькая танцующая Каталлена',\n",
      "                     '춤추는 작은 까탈레나 (Red Sun)\\n1'],\n",
      "             '0-2': ['Я влюбляюсь в тебя, сама того не замечая',\n",
      "                     '나도 모르게 빠져 들어가'],\n",
      "             '0-3': ['Красивая и гордая Кателлена (красное солнце)',\n",
      "                     '도도한 콧대 까탈레나 (Red Sun)'],\n",
      "             '0-4': ['Ютти-мери-хой-хой*, я околдована',\n",
      "                     'Jutti Meri Oye Hoi Hoi 홀려 들어가'],\n",
      "             '0-5': ['Ох боже, она такая шикарная, я влюбилась',\n",
      "                     '어머머머 멋있어 반했어'],\n",
      "             '0-6': ['Даже будучи девушкой, я вижу, как она прекрасна',\n",
      "                     '어쩜 같은 여자끼리 봐도 참 멋있어'],\n",
      "             '0-7': ['Она своенравна, но я хочу снова увидеть ее',\n",
      "                     '까칠까칠 하지만 한 번만'],\n",
      "             '0-8': ['Хочу узнать ее, хочу танцевать с ней',\n",
      "                     '보고파 알고파 함께 춤 추고파'],\n",
      "             '1-1': ['Ла-ла-ла, махни, махни своей рукой', '랄라랄라 흔들흔들 손 흔들고'],\n",
      "             '1-2': ['Кричи, пока не потеряешь голос', '네 목소리가 쉴 때까지 소리 질러'],\n",
      "             '1-3': ['(Ютти-мери-хой-хой', '(Jutti Meri Oye Hoi Hoi'],\n",
      "             '1-4': ['Паула-мера-ойе-хой-хой)', 'Paula Mera Oye Hoi Hoi)'],\n",
      "             '1-5': ['Отлично, дам тебе 100 очков', '참 잘했어요 100점 만점 주고파'],\n",
      "             '10-1': ['Мягко, мягко,', '스르르르르륵 스르르르르륵'],\n",
      "             '10-2': ['Таю', '녹 녹 녹 녹아든다'],\n",
      "             '10-3': ['Таю', '녹 녹 녹 녹 녹아든다'],\n",
      "             '10-4': ['Дрожу, дрожу', '파르르르르륵 파르르르르륵'],\n",
      "             '10-5': ['Волнуюсь', '떨 떨 떨 떨려온다'],\n",
      "             '10-6': ['Я хочу следовать за не', '따라 따라 따라 하고파'],\n",
      "             '2-1': ['Маленькая танцующая Каталлена', '춤추는 작은 까탈레나 (Red Sun)'],\n",
      "             '2-2': ['Я влюбляюсь в тебя, сама того не замечая',\n",
      "                     '나도 모르게 빠져 들어가'],\n",
      "             '2-3': ['Красивая и гордая Кателлена (красное солнце)',\n",
      "                     '도도한 콧대 까탈레나 (Red Sun)'],\n",
      "             '2-4': ['Ютти-мери-хой-хой, я околдована',\n",
      "                     'Jutti Meri Oye Hoi Hoi 홀려 들어가'],\n",
      "             '3-1': ['Мягко, мягко,', '스르르르르륵 스르르르르륵'],\n",
      "             '3-2': ['Таю', '녹 녹 녹 녹아든다'],\n",
      "             '3-3': ['Таю', '녹 녹 녹 녹 녹아든다'],\n",
      "             '3-4': ['Дрожу', '파르르르르륵 파르르르르륵'],\n",
      "             '3-5': ['Волнуюсь', '떨 떨 떨 떨려온다'],\n",
      "             '3-6': ['Я хочу следовать за ней', '따라 따라 따라 하고파'],\n",
      "             '4-1': ['Мне не нравится, когда задирают нос', '시크해서 싫지만 그치만'],\n",
      "             '4-2': ['Но даже будучи девушкой, я вижу, что она очень '\n",
      "                     'привлекательная',\n",
      "                     '어쩜 같은 여자끼리 봐도 매력 있어'],\n",
      "             '4-3': ['Я зла, но мне хочется танцевать целый час, или два',\n",
      "                     '분하지만 한 시간 두 시간'],\n",
      "             '4-4': ['Пойду до конца, пока не сотру ноги', '추고파 놀고파 뼈를 묻고 싶어'],\n",
      "             '5-1': ['Ла-ла-ла, махни, махни своей рукой', '랄라랄라 흔들흔들 손 흔들고'],\n",
      "             '5-2': ['Кричи, пока не потеряешь голос', '네 목소리가 쉴 때까지 소리 질러'],\n",
      "             '5-3': ['(Ютти-мери-хой-хой', '(Jutti Meri Oye Hoi Hoi'],\n",
      "             '5-4': ['Паула-мера-ой-хой-хой)', 'Paula Mera Oye Hoi Hoi)'],\n",
      "             '5-5': ['Не достаточно, давай еще энергичнее',\n",
      "                     '아직 부족해 좀만 더 힘을 내봐'],\n",
      "             '6-1': ['Маленькая танцующая Каталлена', '춤추는 작은 까탈레나 (Red Sun)'],\n",
      "             '6-2': ['Я влюбляюсь в тебя, сама того не замечая',\n",
      "                     '나도 모르게 빠져 들어가'],\n",
      "             '6-3': ['Красивая и гордая Кателлена (красное солнце)',\n",
      "                     '도도한 콧대 까탈레나 (Red Sun)'],\n",
      "             '6-4': ['Ютти-мери-хой-хой, я околдована',\n",
      "                     'Jutti Meri Oye Hoi Hoi 홀려 들어가'],\n",
      "             '7-1': ['(Я околдована, я околдована', '(홀려 들어가, 홀려 들어가,'],\n",
      "             '7-2': ['Я околдована, я околдована)', '홀려 들어가, 홀려 들어가)'],\n",
      "             '8-1': ['Проносящиеся мимо руки такие горячие', '스쳐 가는 두 손이 따듯해'],\n",
      "             '8-2': ['Она действительно хорошая, если познакомиться поближе?',\n",
      "                     '알고 보면 착할래나?'],\n",
      "             '9-1': ['В мою темпераментную Каталлену', '까칠한 나의 까탈레나'],\n",
      "             '9-2': ['Влюбляются все', '모두 다 같이 빠져들어 가'],\n",
      "             '9-3': ['Красивая и гордая Кателлена (красное солнце)',\n",
      "                     '도도한 콧대 까탈레나 (Red Sun)'],\n",
      "             '9-4': ['Ютти-мери-хой-хой, я околдована',\n",
      "                     'Jutti Meri Oye Hoi Hoi 홀려 들어가']})\n"
     ]
    }
   ],
   "source": [
    "pprint(lyrics[0])"
   ]
  },
  {
   "cell_type": "markdown",
   "id": "d4472ed8",
   "metadata": {},
   "source": [
    "#### Загрузка текстов в файл"
   ]
  },
  {
   "cell_type": "markdown",
   "id": "11c363f3",
   "metadata": {},
   "source": [
    "konlpy не пожелал устанавливаться на мой ноутбук (проблемы с Microsoft Visual C++, которые мы не смогли решить в своё время на программировании), а в коллабе не очень понятно, как подключить драйвер к браузеру, поэтому в этой программе я ещё и скачаю всё это в файл .json, который буду считывать уже в коллабе для морфологической обработки и создания XML.\n",
    "\n",
    "Тут нужно ещё будет отдельно подумать, как передавать мета-информацию."
   ]
  },
  {
   "cell_type": "code",
   "execution_count": 509,
   "id": "0e992d7f",
   "metadata": {},
   "outputs": [],
   "source": [
    "import json"
   ]
  },
  {
   "cell_type": "code",
   "execution_count": 534,
   "id": "e1913b05",
   "metadata": {},
   "outputs": [],
   "source": [
    "file_name = meta['song'] + ' by ' + meta['artist']\n",
    "with open(file_name + \".json\", \"w\", encoding='utf-8') as write_file:\n",
    "    json.dump([meta, lyrics[0]], write_file, ensure_ascii=False, indent=3)"
   ]
  },
  {
   "cell_type": "markdown",
   "id": "b84b9175",
   "metadata": {},
   "source": [
    "Дальнейшая работа происходит здесь: https://colab.research.google.com/drive/1pcikDOeSAy7rGK81xCR8o9TGQOFl1SPP#scrollTo=b-ORbudQTsiy"
   ]
  }
 ],
 "metadata": {
  "kernelspec": {
   "display_name": "Python 3 (ipykernel)",
   "language": "python",
   "name": "python3"
  },
  "language_info": {
   "codemirror_mode": {
    "name": "ipython",
    "version": 3
   },
   "file_extension": ".py",
   "mimetype": "text/x-python",
   "name": "python",
   "nbconvert_exporter": "python",
   "pygments_lexer": "ipython3",
   "version": "3.8.9"
  }
 },
 "nbformat": 4,
 "nbformat_minor": 5
}
