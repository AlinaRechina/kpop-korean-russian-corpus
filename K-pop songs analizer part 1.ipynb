{
 "cells": [
  {
   "cell_type": "markdown",
   "id": "ae71508d",
   "metadata": {},
   "source": [
    "## Обкачивание страницы с помощью selenium"
   ]
  },
  {
   "cell_type": "markdown",
   "id": "d0c1cfc9",
   "metadata": {},
   "source": [
    "#### Подключаемся к странице и открываем оригинальный текст:"
   ]
  },
  {
   "cell_type": "code",
   "execution_count": null,
   "id": "a150cf6d",
   "metadata": {},
   "outputs": [],
   "source": [
    "from selenium import webdriver\n",
    "from webdriver_manager.chrome import ChromeDriverManager\n",
    "import re"
   ]
  },
  {
   "cell_type": "code",
   "execution_count": null,
   "id": "0ee9dc00",
   "metadata": {},
   "outputs": [],
   "source": [
    "driver = webdriver.Chrome('./chromedriver.exe')\n",
    "driver.get(\"%TEXT%\")\n",
    "# %TEXT% - ссылка на интересующий перевод с https://lyricstranslate.com"
   ]
  },
  {
   "cell_type": "code",
   "execution_count": null,
   "id": "7645619d",
   "metadata": {},
   "outputs": [],
   "source": [
    "org_lyr_button = driver.find_element_by_id('lyrics-preview')"
   ]
  },
  {
   "cell_type": "code",
   "execution_count": null,
   "id": "5a0088c2",
   "metadata": {},
   "outputs": [],
   "source": [
    "org_lyr_button.click()"
   ]
  },
  {
   "cell_type": "markdown",
   "id": "ae7542ae",
   "metadata": {},
   "source": [
    "#### Скачиваем текст:"
   ]
  },
  {
   "cell_type": "code",
   "execution_count": null,
   "id": "2ac603e0",
   "metadata": {},
   "outputs": [],
   "source": [
    "from collections import defaultdict\n",
    "from pprint import pprint"
   ]
  },
  {
   "cell_type": "code",
   "execution_count": null,
   "id": "73374559",
   "metadata": {},
   "outputs": [],
   "source": [
    "def downloading_lyrics(drvr):\n",
    "    error = False\n",
    "    i = 0 # параграф\n",
    "    j = 1 # строка\n",
    "    endcount = 0\n",
    "    lyrics = defaultdict(list)\n",
    "\n",
    "    while True:\n",
    "        cur = 'll-' + str(i) + '-' + str(j)\n",
    "        line = drvr.find_elements_by_class_name(cur)\n",
    "        if len(line) == 0:\n",
    "            if endcount == 0: # закончился абзац \n",
    "                i += 1\n",
    "                j = 1\n",
    "                endcount = 1\n",
    "            elif endcount == 1: # закончилась песня\n",
    "                endcount = 2\n",
    "            elif endcount == 2:\n",
    "                break\n",
    "        elif len(line) == 1:\n",
    "            error = True\n",
    "            j += 1\n",
    "            endcount = 0\n",
    "        else:\n",
    "            lyrics[cur.strip('ll-')] = [line[0].text, line[1].text]\n",
    "            j += 1\n",
    "            endcount = 0\n",
    "            \n",
    "    return lyrics, error"
   ]
  },
  {
   "cell_type": "code",
   "execution_count": null,
   "id": "15b16b70",
   "metadata": {},
   "outputs": [],
   "source": [
    "lyrics = downloading_lyrics(driver)"
   ]
  },
  {
   "cell_type": "markdown",
   "id": "37b97c9c",
   "metadata": {},
   "source": [
    "#### Скачиваем метаданные:\n",
    "\n",
    "Обратите внимание, что это не те метаданные, которые нужны для .json Цакорпуса (которые требуют разметки вручную). Однако эти метаданные позволяют (а) не перепутать тексты; (б) ускорить процесс разметки нужных метаданных."
   ]
  },
  {
   "cell_type": "code",
   "execution_count": null,
   "id": "2aab35a0",
   "metadata": {},
   "outputs": [],
   "source": [
    "meta = {}\n",
    "\n",
    "translation_node = driver.find_element_by_class_name('translate-node-text').text\n",
    "song_node = driver.find_element_by_class_name('song-node-text').text\n",
    "\n",
    "pattern_org = 'Добавлено .*? в ..\\, [0-9][0-9]\\/[0-9][0-9]\\/[0-9][0-9][0-9][0-9] \\- [0-9][0-9]:[0-9][0-9]'\n",
    "pattern_tr = 'Добавлено .*? в ..\\, [0-9][0-9]\\/[0-9][0-9]\\/[0-9][0-9][0-9][0-9] \\- [0-9][0-9]:[0-9][0-9]'\n",
    "\n",
    "org_meta = re.search(pattern_org, song_node)\n",
    "tr_meta = re.search(pattern_tr, translation_node)\n",
    "\n",
    "org_date = re.search('[0-9][0-9]\\/[0-9][0-9]\\/[0-9][0-9][0-9][0-9]', org_meta[0])[0]\n",
    "tr_date = re.search('[0-9][0-9]\\/[0-9][0-9]\\/[0-9][0-9][0-9][0-9]', tr_meta[0])[0]\n",
    "translator = re.search('Добавлено .*? в', tr_meta[0])[0][10:-2]\n",
    "\n",
    "meta['original_song_date'] = org_date\n",
    "meta['translation_date'] = tr_date\n",
    "meta['translator'] = translator\n",
    "\n",
    "# вот это бы надо доделать, там ещё куча ерунды бывает, надо брать либо до • либо до \\n\n",
    "meta['artist'] = driver.find_element_by_class_name(\n",
    "    'song-node-info-artist').text.split(\n",
    "    '•')[0].strip('Исполнитель: ')\n",
    "\n",
    "meta['song'] = driver.find_element_by_class_name(\n",
    "    'song-node-info-album').text.split(\n",
    "    '•')[0].strip('Песня: ')\n",
    "\n",
    "meta['album'] = driver.find_element_by_class_name(\n",
    "    'song-node-info-album').text.split(\n",
    "    '•')[1].strip('Альбом: ')"
   ]
  },
  {
   "cell_type": "markdown",
   "id": "d4472ed8",
   "metadata": {},
   "source": [
    "#### Загрузка текстов в файл"
   ]
  },
  {
   "cell_type": "markdown",
   "id": "11c363f3",
   "metadata": {},
   "source": [
    "konlpy не пожелал устанавливаться на мой ноутбук (проблемы с Microsoft Visual C++, которые мы не смогли решить в своё время на программировании), а в коллабе не очень понятно, как подключить драйвер к браузеру, поэтому в этой программе я ещё и скачаю всё это в файл .json, который буду считывать уже в коллабе для морфологической обработки и создания XML.\n",
    "\n",
    "Тут нужно ещё будет отдельно подумать, как передавать мета-информацию."
   ]
  },
  {
   "cell_type": "code",
   "execution_count": null,
   "id": "6dc94458",
   "metadata": {},
   "outputs": [],
   "source": [
    "import json"
   ]
  },
  {
   "cell_type": "code",
   "execution_count": null,
   "id": "4e4b51d9",
   "metadata": {},
   "outputs": [],
   "source": [
    "file_name = meta['song'] + ' by ' + meta['artist']\n",
    "with open(file_name + \".json\", \"w\", encoding='utf-8') as write_file:\n",
    "    json.dump([meta, lyrics[0]], write_file, ensure_ascii=False, indent=3)"
   ]
  },
  {
   "cell_type": "markdown",
   "id": "b84b9175",
   "metadata": {},
   "source": [
    "Дальнейшая работа происходит в K-pop songs analizer part 2."
   ]
  }
 ],
 "metadata": {
  "kernelspec": {
   "display_name": "Python 3 (ipykernel)",
   "language": "python",
   "name": "python3"
  },
  "language_info": {
   "codemirror_mode": {
    "name": "ipython",
    "version": 3
   },
   "file_extension": ".py",
   "mimetype": "text/x-python",
   "name": "python",
   "nbconvert_exporter": "python",
   "pygments_lexer": "ipython3",
   "version": "3.8.9"
  }
 },
 "nbformat": 4,
 "nbformat_minor": 5
}
